{
 "cells": [
  {
   "cell_type": "code",
   "execution_count": 1,
   "metadata": {},
   "outputs": [],
   "source": [
    "# Data Wrangling\n",
    "import pandas as pd\n",
    "from pandas import Series, DataFrame\n",
    "import numpy as np\n",
    "\n",
    "# Visualization\n",
    "import matplotlib.pylab as plt\n",
    "from matplotlib import font_manager, rc\n",
    "import seaborn as sns\n",
    "%matplotlib inline\n",
    "\n",
    "# EDA\n",
    "import klib\n",
    "\n",
    "# Preprocessing & Feature Engineering\n",
    "from sklearn.model_selection import train_test_split\n",
    "from sklearn.preprocessing import MinMaxScaler\n",
    "from sklearn.impute import SimpleImputer \n",
    "from sklearn.preprocessing import StandardScaler\n",
    "from sklearn.preprocessing import MinMaxScaler\n",
    "from sklearn.preprocessing import PowerTransformer\n",
    "from sklearn.feature_selection import SelectPercentile\n",
    "\n",
    "# Hyperparameter Optimization\n",
    "from sklearn.model_selection import GridSearchCV\n",
    "from sklearn.model_selection import RandomizedSearchCV\n",
    "\n",
    "# Modeling\n",
    "from sklearn.dummy import DummyClassifier\n",
    "from sklearn.linear_model import LogisticRegression\n",
    "from sklearn.neighbors import KNeighborsClassifier\n",
    "from sklearn.ensemble import RandomForestClassifier\n",
    "from sklearn.neural_network import MLPClassifier\n",
    "from sklearn.tree import DecisionTreeClassifier\n",
    "from sklearn.ensemble import GradientBoostingClassifier\n",
    "from sklearn.svm import SVC\n",
    "from sklearn.ensemble import VotingClassifier\n",
    "from sklearn.ensemble import StackingClassifier\n",
    "from sklearn.base import ClassifierMixin\n",
    "from xgboost import XGBRegressor\n",
    "\n",
    "from sklearn.metrics import mean_squared_error\n",
    "from xgboost import XGBRegressor\n",
    "from lightgbm import LGBMRegressor\n",
    "from catboost import CatBoostRegressor\n",
    "from sklearn.linear_model import Ridge\n",
    "from tensorflow import keras\n",
    "from scipy.stats.mstats import gmean\n",
    "import sys, warnings\n",
    "if not sys.warnoptions: warnings.simplefilter(\"ignore\")\n",
    "\n",
    "# Evaluation\n",
    "from sklearn.metrics import roc_auc_score\n",
    "from sklearn.metrics import accuracy_score\n",
    "from sklearn.model_selection import cross_val_score\n",
    "\n",
    "# Utility\n",
    "import os\n",
    "import time\n",
    "import random\n",
    "import warnings; warnings.filterwarnings(\"ignore\")\n",
    "from IPython.display import Image\n",
    "import pickle\n",
    "from tqdm import tqdm\n",
    "import platform\n",
    "from itertools import combinations\n",
    "from scipy.stats.mstats import gmean"
   ]
  },
  {
   "cell_type": "markdown",
   "metadata": {},
   "source": [
    "### Read Submission files"
   ]
  },
  {
   "cell_type": "code",
   "execution_count": 2,
   "metadata": {},
   "outputs": [],
   "source": [
    "tst = pd.read_csv(os.path.abspath(\"../input\")+'/X_test.csv', encoding='cp949')\n",
    "IDtest = tst.custid.unique()"
   ]
  },
  {
   "cell_type": "code",
   "execution_count": 3,
   "metadata": {},
   "outputs": [],
   "source": [
    "'''\n",
    "# avg_submission_0615_1516.csv 현재 최고점수:\n",
    "pred1 =  pd.read_csv(os.path.abspath(\"../submissions\")+'/avg_submission_0614_2122.csv', encoding='cp949')\n",
    "pred2 =  pd.read_csv(os.path.abspath(\"../submissions\")+'/avg_submission_0614_2127.csv', encoding='cp949')\n",
    "pred3 =  pd.read_csv(os.path.abspath(\"../submissions\")+'/1. caret_mean_submission_0614.csv', encoding='cp949')\n",
    "'''"
   ]
  },
  {
   "cell_type": "code",
   "execution_count": 6,
   "metadata": {},
   "outputs": [],
   "source": [
    "# avg_submission_0615_1747.csv\n",
    "# shap feature selection을 한 1,2,3등팀의 모델링 결과물\n",
    "pred1 =  pd.read_csv(os.path.abspath(\"../submissions\")+'/submission_0615_1657.csv', encoding='cp949')\n",
    "pred2 =  pd.read_csv(os.path.abspath(\"../submissions\")+'/submission_0615_1730.csv', encoding='cp949')\n",
    "pred3 =  pd.read_csv(os.path.abspath(\"../submissions\")+'/submission_0615_1744.csv', encoding='cp949')"
   ]
  },
  {
   "cell_type": "code",
   "execution_count": 9,
   "metadata": {},
   "outputs": [],
   "source": [
    "# avg_submission_0615_1751\n",
    "# 짬뽕시도 1\n",
    "pred1 =  pd.read_csv(os.path.abspath(\"../submissions\")+'/avg_submission_0615_1747.csv', encoding='cp949')\n",
    "pred2 =  pd.read_csv(os.path.abspath(\"../submissions\")+'/1. caret_mean_submission_0614.csv', encoding='cp949')\n",
    "pred3 =  pd.read_csv(os.path.abspath(\"../submissions\")+'/avg_submission_0614_2122.csv', encoding='cp949')"
   ]
  },
  {
   "cell_type": "code",
   "execution_count": 13,
   "metadata": {},
   "outputs": [],
   "source": [
    "# avg_submission\n",
    "# 짬뽕시도 2\n",
    "pred1 =  pd.read_csv(os.path.abspath(\"../submissions\")+'/avg_submission_0615_1751.csv', encoding='cp949')\n",
    "pred2 =  pd.read_csv(os.path.abspath(\"../submissions\")+'/submission_0615_2259.csv', encoding='cp949')\n",
    "pred3 =  pd.read_csv(os.path.abspath(\"../submissions\")+'/1. caret_mean_submission_0614.csv', encoding='cp949')\n",
    "pred4 =  pd.read_csv(os.path.abspath(\"../submissions\")+'/5. dnn_submission_8.15961.csv', encoding='cp949')\n",
    "pred5 =  pd.read_csv(os.path.abspath(\"../submissions\")+'/avg_submission_0614_2122.csv', encoding='cp949')\n",
    "\n",
    "# best score\n",
    "#pred = (pred1['age'] + pred2['age'] + pred4['age']) / 3"
   ]
  },
  {
   "cell_type": "markdown",
   "metadata": {},
   "source": [
    "### Averaging"
   ]
  },
  {
   "cell_type": "code",
   "execution_count": 14,
   "metadata": {},
   "outputs": [],
   "source": [
    "# best score\n",
    "pred = (pred1['age'] + pred2['age'] + pred4['age']) + pred5['age'] / 4"
   ]
  },
  {
   "cell_type": "markdown",
   "metadata": {},
   "source": [
    "### Submission"
   ]
  },
  {
   "cell_type": "code",
   "execution_count": 15,
   "metadata": {},
   "outputs": [
    {
     "name": "stdout",
     "output_type": "stream",
     "text": [
      "'../submissions/avg_submission_0615_2358.csv' is ready to submit.\n"
     ]
    }
   ],
   "source": [
    "t = pd.Timestamp.now()\n",
    "fname = f\"../submissions/avg_submission_{t.month:02}{t.day:02}_{t.hour:02}{t.minute:02}.csv\"\n",
    "submissions = pd.concat([pd.Series(IDtest, name=\"custid\"), pd.Series(pred, name=\"age\")] ,axis=1)\n",
    "submissions.to_csv(fname, index=False)\n",
    "print(\"'{}' is ready to submit.\" .format(fname))"
   ]
  },
  {
   "cell_type": "code",
   "execution_count": null,
   "metadata": {},
   "outputs": [],
   "source": []
  }
 ],
 "metadata": {
  "kernelspec": {
   "display_name": "Python 3",
   "language": "python",
   "name": "python3"
  },
  "language_info": {
   "codemirror_mode": {
    "name": "ipython",
    "version": 3
   },
   "file_extension": ".py",
   "mimetype": "text/x-python",
   "name": "python",
   "nbconvert_exporter": "python",
   "pygments_lexer": "ipython3",
   "version": "3.8.5"
  }
 },
 "nbformat": 4,
 "nbformat_minor": 4
}
